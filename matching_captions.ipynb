{
 "cells": [
  {
   "cell_type": "code",
   "execution_count": 3,
   "metadata": {},
   "outputs": [],
   "source": [
    "import pandas as pd\n",
    "import numpy as np\n",
    "import matplotlib.pyplot as plt\n",
    "import seaborn as sns\n",
    "from sentence_transformers import SentenceTransformer, util\n",
    "from tqdm import tqdm"
   ]
  },
  {
   "cell_type": "code",
   "execution_count": 4,
   "metadata": {},
   "outputs": [
    {
     "data": {
      "text/html": [
       "<div>\n",
       "<style scoped>\n",
       "    .dataframe tbody tr th:only-of-type {\n",
       "        vertical-align: middle;\n",
       "    }\n",
       "\n",
       "    .dataframe tbody tr th {\n",
       "        vertical-align: top;\n",
       "    }\n",
       "\n",
       "    .dataframe thead th {\n",
       "        text-align: right;\n",
       "    }\n",
       "</style>\n",
       "<table border=\"1\" class=\"dataframe\">\n",
       "  <thead>\n",
       "    <tr style=\"text-align: right;\">\n",
       "      <th></th>\n",
       "      <th>image_id</th>\n",
       "      <th>file_name</th>\n",
       "      <th>caption</th>\n",
       "    </tr>\n",
       "  </thead>\n",
       "  <tbody>\n",
       "    <tr>\n",
       "      <th>0</th>\n",
       "      <td>139</td>\n",
       "      <td>000000000139.jpg</td>\n",
       "      <td>A living area with a television and a table</td>\n",
       "    </tr>\n",
       "    <tr>\n",
       "      <th>1</th>\n",
       "      <td>139</td>\n",
       "      <td>000000000139.jpg</td>\n",
       "      <td>A person standing at a table in a room.</td>\n",
       "    </tr>\n",
       "    <tr>\n",
       "      <th>2</th>\n",
       "      <td>139</td>\n",
       "      <td>000000000139.jpg</td>\n",
       "      <td>A woman stands in the dining area at the table.</td>\n",
       "    </tr>\n",
       "    <tr>\n",
       "      <th>3</th>\n",
       "      <td>139</td>\n",
       "      <td>000000000139.jpg</td>\n",
       "      <td>A woman standing in a kitchen by a window</td>\n",
       "    </tr>\n",
       "    <tr>\n",
       "      <th>4</th>\n",
       "      <td>139</td>\n",
       "      <td>000000000139.jpg</td>\n",
       "      <td>A room with chairs, a table, and a woman in it.</td>\n",
       "    </tr>\n",
       "    <tr>\n",
       "      <th>...</th>\n",
       "      <td>...</td>\n",
       "      <td>...</td>\n",
       "      <td>...</td>\n",
       "    </tr>\n",
       "    <tr>\n",
       "      <th>25009</th>\n",
       "      <td>581781</td>\n",
       "      <td>000000581781.jpg</td>\n",
       "      <td>A fruit stand that has bananas, papaya, and pl...</td>\n",
       "    </tr>\n",
       "    <tr>\n",
       "      <th>25010</th>\n",
       "      <td>581781</td>\n",
       "      <td>000000581781.jpg</td>\n",
       "      <td>A fruit stand display with bananas and kiwi</td>\n",
       "    </tr>\n",
       "    <tr>\n",
       "      <th>25011</th>\n",
       "      <td>581781</td>\n",
       "      <td>000000581781.jpg</td>\n",
       "      <td>A group of bananas surround a small display of...</td>\n",
       "    </tr>\n",
       "    <tr>\n",
       "      <th>25012</th>\n",
       "      <td>581781</td>\n",
       "      <td>000000581781.jpg</td>\n",
       "      <td>A fruit stand with plantains, kiwis, and banan...</td>\n",
       "    </tr>\n",
       "    <tr>\n",
       "      <th>25013</th>\n",
       "      <td>581781</td>\n",
       "      <td>000000581781.jpg</td>\n",
       "      <td>A store display filled with ripe, unripe banan...</td>\n",
       "    </tr>\n",
       "  </tbody>\n",
       "</table>\n",
       "<p>25014 rows × 3 columns</p>\n",
       "</div>"
      ],
      "text/plain": [
       "       image_id         file_name  \\\n",
       "0           139  000000000139.jpg   \n",
       "1           139  000000000139.jpg   \n",
       "2           139  000000000139.jpg   \n",
       "3           139  000000000139.jpg   \n",
       "4           139  000000000139.jpg   \n",
       "...         ...               ...   \n",
       "25009    581781  000000581781.jpg   \n",
       "25010    581781  000000581781.jpg   \n",
       "25011    581781  000000581781.jpg   \n",
       "25012    581781  000000581781.jpg   \n",
       "25013    581781  000000581781.jpg   \n",
       "\n",
       "                                                 caption  \n",
       "0            A living area with a television and a table  \n",
       "1                A person standing at a table in a room.  \n",
       "2        A woman stands in the dining area at the table.  \n",
       "3              A woman standing in a kitchen by a window  \n",
       "4        A room with chairs, a table, and a woman in it.  \n",
       "...                                                  ...  \n",
       "25009  A fruit stand that has bananas, papaya, and pl...  \n",
       "25010        A fruit stand display with bananas and kiwi  \n",
       "25011  A group of bananas surround a small display of...  \n",
       "25012  A fruit stand with plantains, kiwis, and banan...  \n",
       "25013  A store display filled with ripe, unripe banan...  \n",
       "\n",
       "[25014 rows x 3 columns]"
      ]
     },
     "execution_count": 4,
     "metadata": {},
     "output_type": "execute_result"
    }
   ],
   "source": [
    "GT_captions = pd.read_csv('sorted_captions_val2017.csv')\n",
    "GT_captions"
   ]
  },
  {
   "cell_type": "code",
   "execution_count": 5,
   "metadata": {},
   "outputs": [
    {
     "data": {
      "text/html": [
       "<div>\n",
       "<style scoped>\n",
       "    .dataframe tbody tr th:only-of-type {\n",
       "        vertical-align: middle;\n",
       "    }\n",
       "\n",
       "    .dataframe tbody tr th {\n",
       "        vertical-align: top;\n",
       "    }\n",
       "\n",
       "    .dataframe thead th {\n",
       "        text-align: right;\n",
       "    }\n",
       "</style>\n",
       "<table border=\"1\" class=\"dataframe\">\n",
       "  <thead>\n",
       "    <tr style=\"text-align: right;\">\n",
       "      <th></th>\n",
       "      <th>image_file</th>\n",
       "      <th>caption</th>\n",
       "    </tr>\n",
       "  </thead>\n",
       "  <tbody>\n",
       "    <tr>\n",
       "      <th>0</th>\n",
       "      <td>000000080057.jpg</td>\n",
       "      <td>A brown teddy bear sitting next to a wooden toy.</td>\n",
       "    </tr>\n",
       "    <tr>\n",
       "      <th>1</th>\n",
       "      <td>000000023781.jpg</td>\n",
       "      <td>A table topped with lots of different types of...</td>\n",
       "    </tr>\n",
       "    <tr>\n",
       "      <th>2</th>\n",
       "      <td>000000049761.jpg</td>\n",
       "      <td>A herd of wildebeest and zebras grazing in a f...</td>\n",
       "    </tr>\n",
       "    <tr>\n",
       "      <th>3</th>\n",
       "      <td>000000017436.jpg</td>\n",
       "      <td>A black and white photo of a man sitting on a ...</td>\n",
       "    </tr>\n",
       "    <tr>\n",
       "      <th>4</th>\n",
       "      <td>000000062353.jpg</td>\n",
       "      <td>A group of giraffe standing next to each other.</td>\n",
       "    </tr>\n",
       "    <tr>\n",
       "      <th>...</th>\n",
       "      <td>...</td>\n",
       "      <td>...</td>\n",
       "    </tr>\n",
       "    <tr>\n",
       "      <th>995</th>\n",
       "      <td>000000108495.jpg</td>\n",
       "      <td>A woman sitting on a skateboard on a sidewalk.</td>\n",
       "    </tr>\n",
       "    <tr>\n",
       "      <th>996</th>\n",
       "      <td>000000012667.jpg</td>\n",
       "      <td>A banana sitting on a phone on a desk.</td>\n",
       "    </tr>\n",
       "    <tr>\n",
       "      <th>997</th>\n",
       "      <td>000000037751.jpg</td>\n",
       "      <td>A person riding a motorcycle on a dirt road.</td>\n",
       "    </tr>\n",
       "    <tr>\n",
       "      <th>998</th>\n",
       "      <td>000000027932.jpg</td>\n",
       "      <td>A baseball mitt and hat sitting on the ground.</td>\n",
       "    </tr>\n",
       "    <tr>\n",
       "      <th>999</th>\n",
       "      <td>000000088265.jpg</td>\n",
       "      <td>A horse pulling a cart down a dirt road.</td>\n",
       "    </tr>\n",
       "  </tbody>\n",
       "</table>\n",
       "<p>1000 rows × 2 columns</p>\n",
       "</div>"
      ],
      "text/plain": [
       "           image_file                                            caption\n",
       "0    000000080057.jpg   A brown teddy bear sitting next to a wooden toy.\n",
       "1    000000023781.jpg  A table topped with lots of different types of...\n",
       "2    000000049761.jpg  A herd of wildebeest and zebras grazing in a f...\n",
       "3    000000017436.jpg  A black and white photo of a man sitting on a ...\n",
       "4    000000062353.jpg    A group of giraffe standing next to each other.\n",
       "..                ...                                                ...\n",
       "995  000000108495.jpg     A woman sitting on a skateboard on a sidewalk.\n",
       "996  000000012667.jpg             A banana sitting on a phone on a desk.\n",
       "997  000000037751.jpg       A person riding a motorcycle on a dirt road.\n",
       "998  000000027932.jpg     A baseball mitt and hat sitting on the ground.\n",
       "999  000000088265.jpg           A horse pulling a cart down a dirt road.\n",
       "\n",
       "[1000 rows x 2 columns]"
      ]
     },
     "execution_count": 5,
     "metadata": {},
     "output_type": "execute_result"
    }
   ],
   "source": [
    "PT_captions = pd.read_csv('generated_captions_model.csv', sep=',')\n",
    "PT_captions"
   ]
  },
  {
   "cell_type": "code",
   "execution_count": 6,
   "metadata": {},
   "outputs": [],
   "source": [
    "model = SentenceTransformer('all-MiniLM-L6-v2') "
   ]
  },
  {
   "cell_type": "code",
   "execution_count": 7,
   "metadata": {},
   "outputs": [
    {
     "name": "stderr",
     "output_type": "stream",
     "text": [
      "100%|██████████| 1000/1000 [00:37<00:00, 26.68it/s]\n"
     ]
    }
   ],
   "source": [
    "sim_scores = []\n",
    "for _, pt_row in tqdm(PT_captions.iterrows(), total=len(PT_captions)):\n",
    "    img = pt_row.image_file\n",
    "    pt_caption = pt_row.caption\n",
    "    gt_captions = GT_captions[GT_captions['file_name']==img]['caption'].to_list()\n",
    "\n",
    "    pred_emb = model.encode(pt_caption, convert_to_tensor=True)\n",
    "    gt_embs = model.encode(gt_captions, convert_to_tensor=True)\n",
    "\n",
    "    cosine_scores = util.cos_sim(pred_emb, gt_embs)[0] \n",
    "\n",
    "    sim_scores.append([img,cosine_scores.max().item()])"
   ]
  },
  {
   "cell_type": "code",
   "execution_count": 12,
   "metadata": {},
   "outputs": [],
   "source": [
    "sim_scores = np.array(sim_scores)"
   ]
  },
  {
   "cell_type": "code",
   "execution_count": 16,
   "metadata": {},
   "outputs": [
    {
     "data": {
      "image/png": "[encoded data removed]",
      "text/plain": [
       "<Figure size 640x480 with 1 Axes>"
      ]
     },
     "metadata": {},
     "output_type": "display_data"
    }
   ],
   "source": [
    "plt.hist(sim_scores[:,1].astype(float))\n",
    "plt.show()"
   ]
  },
  {
   "cell_type": "code",
   "execution_count": 19,
   "metadata": {},
   "outputs": [],
   "source": [
    "scores= sim_scores[:,1].astype(float)"
   ]
  },
  {
   "cell_type": "code",
   "execution_count": 33,
   "metadata": {},
   "outputs": [],
   "source": [
    "thd = [0.5, 0.6, 0.7, 0.75, 0.8, 0.9]\n",
    "def print_sim_score(scores, threshold= thd, total=1000):\n",
    "    for threshold in thd:\n",
    "        accuracy = np.sum(scores > threshold) / total\n",
    "        print(f\"At similarity threshold {threshold}: { accuracy:.3f}\")"
   ]
  },
  {
   "cell_type": "code",
   "execution_count": 34,
   "metadata": {},
   "outputs": [
    {
     "name": "stdout",
     "output_type": "stream",
     "text": [
      "At similarity threshold 0.5: 0.990\n",
      "At similarity threshold 0.6: 0.957\n",
      "At similarity threshold 0.7: 0.836\n",
      "At similarity threshold 0.75: 0.732\n",
      "At similarity threshold 0.8: 0.587\n",
      "At similarity threshold 0.9: 0.219\n"
     ]
    }
   ],
   "source": [
    "print_sim_score(scores,0.8, total = 1000)"
   ]
  },
  {
   "cell_type": "code",
   "execution_count": 35,
   "metadata": {},
   "outputs": [
    {
     "data": {
      "text/html": [
       "<div>\n",
       "<style scoped>\n",
       "    .dataframe tbody tr th:only-of-type {\n",
       "        vertical-align: middle;\n",
       "    }\n",
       "\n",
       "    .dataframe tbody tr th {\n",
       "        vertical-align: top;\n",
       "    }\n",
       "\n",
       "    .dataframe thead th {\n",
       "        text-align: right;\n",
       "    }\n",
       "</style>\n",
       "<table border=\"1\" class=\"dataframe\">\n",
       "  <thead>\n",
       "    <tr style=\"text-align: right;\">\n",
       "      <th></th>\n",
       "      <th>image_name</th>\n",
       "      <th>score</th>\n",
       "    </tr>\n",
       "  </thead>\n",
       "  <tbody>\n",
       "    <tr>\n",
       "      <th>0</th>\n",
       "      <td>000000080057.jpg</td>\n",
       "      <td>0.8930423855781555</td>\n",
       "    </tr>\n",
       "    <tr>\n",
       "      <th>1</th>\n",
       "      <td>000000023781.jpg</td>\n",
       "      <td>0.6260303258895874</td>\n",
       "    </tr>\n",
       "    <tr>\n",
       "      <th>2</th>\n",
       "      <td>000000049761.jpg</td>\n",
       "      <td>0.8418809175491333</td>\n",
       "    </tr>\n",
       "    <tr>\n",
       "      <th>3</th>\n",
       "      <td>000000017436.jpg</td>\n",
       "      <td>0.6928191184997559</td>\n",
       "    </tr>\n",
       "    <tr>\n",
       "      <th>4</th>\n",
       "      <td>000000062353.jpg</td>\n",
       "      <td>0.7625905871391296</td>\n",
       "    </tr>\n",
       "    <tr>\n",
       "      <th>...</th>\n",
       "      <td>...</td>\n",
       "      <td>...</td>\n",
       "    </tr>\n",
       "    <tr>\n",
       "      <th>995</th>\n",
       "      <td>000000108495.jpg</td>\n",
       "      <td>0.8173618316650391</td>\n",
       "    </tr>\n",
       "    <tr>\n",
       "      <th>996</th>\n",
       "      <td>000000012667.jpg</td>\n",
       "      <td>0.8602560758590698</td>\n",
       "    </tr>\n",
       "    <tr>\n",
       "      <th>997</th>\n",
       "      <td>000000037751.jpg</td>\n",
       "      <td>0.8415665030479431</td>\n",
       "    </tr>\n",
       "    <tr>\n",
       "      <th>998</th>\n",
       "      <td>000000027932.jpg</td>\n",
       "      <td>0.8406329154968262</td>\n",
       "    </tr>\n",
       "    <tr>\n",
       "      <th>999</th>\n",
       "      <td>000000088265.jpg</td>\n",
       "      <td>0.6891932487487793</td>\n",
       "    </tr>\n",
       "  </tbody>\n",
       "</table>\n",
       "<p>1000 rows × 2 columns</p>\n",
       "</div>"
      ],
      "text/plain": [
       "           image_name               score\n",
       "0    000000080057.jpg  0.8930423855781555\n",
       "1    000000023781.jpg  0.6260303258895874\n",
       "2    000000049761.jpg  0.8418809175491333\n",
       "3    000000017436.jpg  0.6928191184997559\n",
       "4    000000062353.jpg  0.7625905871391296\n",
       "..                ...                 ...\n",
       "995  000000108495.jpg  0.8173618316650391\n",
       "996  000000012667.jpg  0.8602560758590698\n",
       "997  000000037751.jpg  0.8415665030479431\n",
       "998  000000027932.jpg  0.8406329154968262\n",
       "999  000000088265.jpg  0.6891932487487793\n",
       "\n",
       "[1000 rows x 2 columns]"
      ]
     },
     "execution_count": 35,
     "metadata": {},
     "output_type": "execute_result"
    }
   ],
   "source": [
    "sim_df = pd.DataFrame(sim_scores,columns=[\"image_name\",\"score\"])\n",
    "sim_df"
   ]
  },
  {
   "cell_type": "code",
   "execution_count": 52,
   "metadata": {},
   "outputs": [],
   "source": [
    "low_sim_images = sim_df[sim_df['score'] <= \"0.600\"]['image_name'].tolist()\n",
    "df_low_sim = pd.DataFrame(low_sim_images, columns=['image'])\n",
    "df_low_sim.to_csv(\"low_similarity_images_0.6.csv\", index=False)"
   ]
  }
 ],
 "metadata": {
  "kernelspec": {
   "display_name": "Oasis",
   "language": "python",
   "name": "python3"
  },
  "language_info": {
   "codemirror_mode": {
    "name": "ipython",
    "version": 3
   },
   "file_extension": ".py",
   "mimetype": "text/x-python",
   "name": "python",
   "nbconvert_exporter": "python",
   "pygments_lexer": "ipython3",
   "version": "3.9.21"
  }
 },
 "nbformat": 4,
 "nbformat_minor": 2
}
